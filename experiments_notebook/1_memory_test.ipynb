{
 "cells": [
  {
   "cell_type": "code",
   "execution_count": 1,
   "id": "5e7537a7-71f2-4733-9cf1-74ebb3675e36",
   "metadata": {
    "ExecuteTime": {
     "end_time": "2023-04-23T17:21:03.630050Z",
     "start_time": "2023-04-23T17:21:03.002088Z"
    }
   },
   "outputs": [
    {
     "ename": "ModuleNotFoundError",
     "evalue": "No module named 'episodic_memory'",
     "output_type": "error",
     "traceback": [
      "\u001b[0;31m---------------------------------------------------------------------------\u001b[0m",
      "\u001b[0;31mModuleNotFoundError\u001b[0m                       Traceback (most recent call last)",
      "Cell \u001b[0;32mIn[1], line 3\u001b[0m\n\u001b[1;32m      1\u001b[0m \u001b[38;5;28;01mimport\u001b[39;00m \u001b[38;5;21;01msys\u001b[39;00m\n\u001b[0;32m----> 3\u001b[0m \u001b[38;5;28;01mfrom\u001b[39;00m \u001b[38;5;21;01mepisodic_memory\u001b[39;00m\u001b[38;5;21;01m.\u001b[39;00m\u001b[38;5;21;01mutils\u001b[39;00m\u001b[38;5;21;01m.\u001b[39;00m\u001b[38;5;21;01mall_imports\u001b[39;00m \u001b[38;5;28;01mimport\u001b[39;00m \u001b[38;5;241m*\u001b[39m\n\u001b[1;32m      4\u001b[0m \u001b[38;5;28;01mfrom\u001b[39;00m \u001b[38;5;21;01mdecouple\u001b[39;00m \u001b[38;5;28;01mimport\u001b[39;00m config  \u001b[38;5;66;03m# obtain environment files\u001b[39;00m\n\u001b[1;32m      6\u001b[0m \u001b[38;5;28;01mimport\u001b[39;00m \u001b[38;5;21;01mseaborn\u001b[39;00m \u001b[38;5;28;01mas\u001b[39;00m \u001b[38;5;21;01msns\u001b[39;00m\n",
      "\u001b[0;31mModuleNotFoundError\u001b[0m: No module named 'episodic_memory'"
     ]
    }
   ],
   "source": [
    "import sys\n",
    "\n",
    "import seaborn as sns\n",
    "\n",
    "import os\n",
    "import json\n",
    "\n",
    "from episodic_memory.experiment import temporal_pattern_from_output, \\\n",
    "    find_best_chain_length, \\\n",
    "    pattern_changes_from_temporal_pattern\n",
    "from episodic_memory.utils import add_experiment_id\n",
    "\n",
    "from episodic_memory.networks.AETPolynomial import AETPolynomial\n",
    "\n",
    "from tqdm.notebook import tqdm\n",
    "\n",
    "import numpy as np\n",
    "\n",
    "%load_ext autoreload\n",
    "%autoreload 1"
   ]
  },
  {
   "cell_type": "code",
   "execution_count": 2,
   "id": "96455d84-2c18-4111-b5e7-a47c93deac38",
   "metadata": {
    "ExecuteTime": {
     "end_time": "2023-04-23T17:21:03.953477Z",
     "start_time": "2023-04-23T17:21:03.953247Z"
    }
   },
   "outputs": [],
   "source": [
    "SEED = 0\n",
    "N_NEURONS = 100\n",
    "N_MEMORIES = 2\n",
    "OUTPUT_DIR = '/media/arjun/Shared/cluster/output/output/journal'\n",
    "POLY_N = 1\n",
    "ALPHA = 0.01\n",
    "EXPERIMENT_ID = 0"
   ]
  },
  {
   "cell_type": "code",
   "execution_count": 8,
   "id": "c250145a-fdc7-4c0e-b624-2555daec21dc",
   "metadata": {
    "collapsed": true,
    "jupyter": {
     "outputs_hidden": true
    },
    "tags": []
   },
   "outputs": [
    {
     "data": {
      "image/png": "[encoded data removed]",
      "text/plain": [
       "<Figure size 432x288 with 1 Axes>"
      ]
     },
     "metadata": {},
     "output_type": "display_data"
    },
    {
     "ename": "ValueError",
     "evalue": "zero-size array to reduction operation minimum which has no identity",
     "output_type": "error",
     "traceback": [
      "\u001b[0;31m---------------------------------------------------------------------------\u001b[0m",
      "\u001b[0;31mValueError\u001b[0m                                Traceback (most recent call last)",
      "Cell \u001b[0;32mIn [8], line 44\u001b[0m\n\u001b[1;32m     41\u001b[0m ax \u001b[38;5;241m=\u001b[39m fig\u001b[38;5;241m.\u001b[39madd_axes([\u001b[38;5;241m0\u001b[39m,\u001b[38;5;241m0\u001b[39m,\u001b[38;5;241m1\u001b[39m,\u001b[38;5;241m1\u001b[39m])\n\u001b[1;32m     43\u001b[0m \u001b[38;5;66;03m# Create the boxplot\u001b[39;00m\n\u001b[0;32m---> 44\u001b[0m bp \u001b[38;5;241m=\u001b[39m \u001b[43max\u001b[49m\u001b[38;5;241;43m.\u001b[39;49m\u001b[43mviolinplot\u001b[49m\u001b[43m(\u001b[49m\u001b[43mdata_to_violinplot\u001b[49m\u001b[43m)\u001b[49m\n\u001b[1;32m     45\u001b[0m plt\u001b[38;5;241m.\u001b[39mshow()\n",
      "File \u001b[0;32m~/anaconda3/envs/episodic/lib/python3.9/site-packages/matplotlib/__init__.py:1412\u001b[0m, in \u001b[0;36m_preprocess_data.<locals>.inner\u001b[0;34m(ax, data, *args, **kwargs)\u001b[0m\n\u001b[1;32m   1409\u001b[0m \u001b[38;5;129m@functools\u001b[39m\u001b[38;5;241m.\u001b[39mwraps(func)\n\u001b[1;32m   1410\u001b[0m \u001b[38;5;28;01mdef\u001b[39;00m \u001b[38;5;21minner\u001b[39m(ax, \u001b[38;5;241m*\u001b[39margs, data\u001b[38;5;241m=\u001b[39m\u001b[38;5;28;01mNone\u001b[39;00m, \u001b[38;5;241m*\u001b[39m\u001b[38;5;241m*\u001b[39mkwargs):\n\u001b[1;32m   1411\u001b[0m     \u001b[38;5;28;01mif\u001b[39;00m data \u001b[38;5;129;01mis\u001b[39;00m \u001b[38;5;28;01mNone\u001b[39;00m:\n\u001b[0;32m-> 1412\u001b[0m         \u001b[38;5;28;01mreturn\u001b[39;00m \u001b[43mfunc\u001b[49m\u001b[43m(\u001b[49m\u001b[43max\u001b[49m\u001b[43m,\u001b[49m\u001b[43m \u001b[49m\u001b[38;5;241;43m*\u001b[39;49m\u001b[38;5;28;43mmap\u001b[39;49m\u001b[43m(\u001b[49m\u001b[43msanitize_sequence\u001b[49m\u001b[43m,\u001b[49m\u001b[43m \u001b[49m\u001b[43margs\u001b[49m\u001b[43m)\u001b[49m\u001b[43m,\u001b[49m\u001b[43m \u001b[49m\u001b[38;5;241;43m*\u001b[39;49m\u001b[38;5;241;43m*\u001b[39;49m\u001b[43mkwargs\u001b[49m\u001b[43m)\u001b[49m\n\u001b[1;32m   1414\u001b[0m     bound \u001b[38;5;241m=\u001b[39m new_sig\u001b[38;5;241m.\u001b[39mbind(ax, \u001b[38;5;241m*\u001b[39margs, \u001b[38;5;241m*\u001b[39m\u001b[38;5;241m*\u001b[39mkwargs)\n\u001b[1;32m   1415\u001b[0m     auto_label \u001b[38;5;241m=\u001b[39m (bound\u001b[38;5;241m.\u001b[39marguments\u001b[38;5;241m.\u001b[39mget(label_namer)\n\u001b[1;32m   1416\u001b[0m                   \u001b[38;5;129;01mor\u001b[39;00m bound\u001b[38;5;241m.\u001b[39mkwargs\u001b[38;5;241m.\u001b[39mget(label_namer))\n",
      "File \u001b[0;32m~/anaconda3/envs/episodic/lib/python3.9/site-packages/matplotlib/axes/_axes.py:7942\u001b[0m, in \u001b[0;36mAxes.violinplot\u001b[0;34m(self, dataset, positions, vert, widths, showmeans, showextrema, showmedians, quantiles, points, bw_method)\u001b[0m\n\u001b[1;32m   7939\u001b[0m     kde \u001b[38;5;241m=\u001b[39m mlab\u001b[38;5;241m.\u001b[39mGaussianKDE(X, bw_method)\n\u001b[1;32m   7940\u001b[0m     \u001b[38;5;28;01mreturn\u001b[39;00m kde\u001b[38;5;241m.\u001b[39mevaluate(coords)\n\u001b[0;32m-> 7942\u001b[0m vpstats \u001b[38;5;241m=\u001b[39m \u001b[43mcbook\u001b[49m\u001b[38;5;241;43m.\u001b[39;49m\u001b[43mviolin_stats\u001b[49m\u001b[43m(\u001b[49m\u001b[43mdataset\u001b[49m\u001b[43m,\u001b[49m\u001b[43m \u001b[49m\u001b[43m_kde_method\u001b[49m\u001b[43m,\u001b[49m\u001b[43m \u001b[49m\u001b[43mpoints\u001b[49m\u001b[38;5;241;43m=\u001b[39;49m\u001b[43mpoints\u001b[49m\u001b[43m,\u001b[49m\n\u001b[1;32m   7943\u001b[0m \u001b[43m                             \u001b[49m\u001b[43mquantiles\u001b[49m\u001b[38;5;241;43m=\u001b[39;49m\u001b[43mquantiles\u001b[49m\u001b[43m)\u001b[49m\n\u001b[1;32m   7944\u001b[0m \u001b[38;5;28;01mreturn\u001b[39;00m \u001b[38;5;28mself\u001b[39m\u001b[38;5;241m.\u001b[39mviolin(vpstats, positions\u001b[38;5;241m=\u001b[39mpositions, vert\u001b[38;5;241m=\u001b[39mvert,\n\u001b[1;32m   7945\u001b[0m                    widths\u001b[38;5;241m=\u001b[39mwidths, showmeans\u001b[38;5;241m=\u001b[39mshowmeans,\n\u001b[1;32m   7946\u001b[0m                    showextrema\u001b[38;5;241m=\u001b[39mshowextrema, showmedians\u001b[38;5;241m=\u001b[39mshowmedians)\n",
      "File \u001b[0;32m~/anaconda3/envs/episodic/lib/python3.9/site-packages/matplotlib/cbook/__init__.py:1485\u001b[0m, in \u001b[0;36mviolin_stats\u001b[0;34m(X, method, points, quantiles)\u001b[0m\n\u001b[1;32m   1482\u001b[0m stats \u001b[38;5;241m=\u001b[39m {}\n\u001b[1;32m   1484\u001b[0m \u001b[38;5;66;03m# Calculate basic stats for the distribution\u001b[39;00m\n\u001b[0;32m-> 1485\u001b[0m min_val \u001b[38;5;241m=\u001b[39m \u001b[43mnp\u001b[49m\u001b[38;5;241;43m.\u001b[39;49m\u001b[43mmin\u001b[49m\u001b[43m(\u001b[49m\u001b[43mx\u001b[49m\u001b[43m)\u001b[49m\n\u001b[1;32m   1486\u001b[0m max_val \u001b[38;5;241m=\u001b[39m np\u001b[38;5;241m.\u001b[39mmax(x)\n\u001b[1;32m   1487\u001b[0m quantile_val \u001b[38;5;241m=\u001b[39m np\u001b[38;5;241m.\u001b[39mpercentile(x, \u001b[38;5;241m100\u001b[39m \u001b[38;5;241m*\u001b[39m q)\n",
      "File \u001b[0;32m<__array_function__ internals>:5\u001b[0m, in \u001b[0;36mamin\u001b[0;34m(*args, **kwargs)\u001b[0m\n",
      "File \u001b[0;32m~/anaconda3/envs/episodic/lib/python3.9/site-packages/numpy/core/fromnumeric.py:2879\u001b[0m, in \u001b[0;36mamin\u001b[0;34m(a, axis, out, keepdims, initial, where)\u001b[0m\n\u001b[1;32m   2763\u001b[0m \u001b[38;5;129m@array_function_dispatch\u001b[39m(_amin_dispatcher)\n\u001b[1;32m   2764\u001b[0m \u001b[38;5;28;01mdef\u001b[39;00m \u001b[38;5;21mamin\u001b[39m(a, axis\u001b[38;5;241m=\u001b[39m\u001b[38;5;28;01mNone\u001b[39;00m, out\u001b[38;5;241m=\u001b[39m\u001b[38;5;28;01mNone\u001b[39;00m, keepdims\u001b[38;5;241m=\u001b[39mnp\u001b[38;5;241m.\u001b[39m_NoValue, initial\u001b[38;5;241m=\u001b[39mnp\u001b[38;5;241m.\u001b[39m_NoValue,\n\u001b[1;32m   2765\u001b[0m          where\u001b[38;5;241m=\u001b[39mnp\u001b[38;5;241m.\u001b[39m_NoValue):\n\u001b[1;32m   2766\u001b[0m     \u001b[38;5;124;03m\"\"\"\u001b[39;00m\n\u001b[1;32m   2767\u001b[0m \u001b[38;5;124;03m    Return the minimum of an array or minimum along an axis.\u001b[39;00m\n\u001b[1;32m   2768\u001b[0m \n\u001b[0;32m   (...)\u001b[0m\n\u001b[1;32m   2877\u001b[0m \u001b[38;5;124;03m    6\u001b[39;00m\n\u001b[1;32m   2878\u001b[0m \u001b[38;5;124;03m    \"\"\"\u001b[39;00m\n\u001b[0;32m-> 2879\u001b[0m     \u001b[38;5;28;01mreturn\u001b[39;00m \u001b[43m_wrapreduction\u001b[49m\u001b[43m(\u001b[49m\u001b[43ma\u001b[49m\u001b[43m,\u001b[49m\u001b[43m \u001b[49m\u001b[43mnp\u001b[49m\u001b[38;5;241;43m.\u001b[39;49m\u001b[43mminimum\u001b[49m\u001b[43m,\u001b[49m\u001b[43m \u001b[49m\u001b[38;5;124;43m'\u001b[39;49m\u001b[38;5;124;43mmin\u001b[39;49m\u001b[38;5;124;43m'\u001b[39;49m\u001b[43m,\u001b[49m\u001b[43m \u001b[49m\u001b[43maxis\u001b[49m\u001b[43m,\u001b[49m\u001b[43m \u001b[49m\u001b[38;5;28;43;01mNone\u001b[39;49;00m\u001b[43m,\u001b[49m\u001b[43m \u001b[49m\u001b[43mout\u001b[49m\u001b[43m,\u001b[49m\n\u001b[1;32m   2880\u001b[0m \u001b[43m                          \u001b[49m\u001b[43mkeepdims\u001b[49m\u001b[38;5;241;43m=\u001b[39;49m\u001b[43mkeepdims\u001b[49m\u001b[43m,\u001b[49m\u001b[43m \u001b[49m\u001b[43minitial\u001b[49m\u001b[38;5;241;43m=\u001b[39;49m\u001b[43minitial\u001b[49m\u001b[43m,\u001b[49m\u001b[43m \u001b[49m\u001b[43mwhere\u001b[49m\u001b[38;5;241;43m=\u001b[39;49m\u001b[43mwhere\u001b[49m\u001b[43m)\u001b[49m\n",
      "File \u001b[0;32m~/anaconda3/envs/episodic/lib/python3.9/site-packages/numpy/core/fromnumeric.py:86\u001b[0m, in \u001b[0;36m_wrapreduction\u001b[0;34m(obj, ufunc, method, axis, dtype, out, **kwargs)\u001b[0m\n\u001b[1;32m     83\u001b[0m         \u001b[38;5;28;01melse\u001b[39;00m:\n\u001b[1;32m     84\u001b[0m             \u001b[38;5;28;01mreturn\u001b[39;00m reduction(axis\u001b[38;5;241m=\u001b[39maxis, out\u001b[38;5;241m=\u001b[39mout, \u001b[38;5;241m*\u001b[39m\u001b[38;5;241m*\u001b[39mpasskwargs)\n\u001b[0;32m---> 86\u001b[0m \u001b[38;5;28;01mreturn\u001b[39;00m \u001b[43mufunc\u001b[49m\u001b[38;5;241;43m.\u001b[39;49m\u001b[43mreduce\u001b[49m\u001b[43m(\u001b[49m\u001b[43mobj\u001b[49m\u001b[43m,\u001b[49m\u001b[43m \u001b[49m\u001b[43maxis\u001b[49m\u001b[43m,\u001b[49m\u001b[43m \u001b[49m\u001b[43mdtype\u001b[49m\u001b[43m,\u001b[49m\u001b[43m \u001b[49m\u001b[43mout\u001b[49m\u001b[43m,\u001b[49m\u001b[43m \u001b[49m\u001b[38;5;241;43m*\u001b[39;49m\u001b[38;5;241;43m*\u001b[39;49m\u001b[43mpasskwargs\u001b[49m\u001b[43m)\u001b[49m\n",
      "\u001b[0;31mValueError\u001b[0m: zero-size array to reduction operation minimum which has no identity"
     ]
    },
    {
     "data": {
      "image/png": "[encoded data removed]",
      "text/plain": [
       "<Figure size 432x288 with 1 Axes>"
      ]
     },
     "metadata": {},
     "output_type": "display_data"
    }
   ],
   "source": [
    "result = {\n",
    "    \"seeds\": [],\n",
    "    \"poly_n\": [],\n",
    "    \"n_memories\": []\n",
    "}\n",
    "\n",
    "for result_filename in os.listdir(os.path.join(OUTPUT_DIR, \"final\")):\n",
    "    # print(result_filename)\n",
    "\n",
    "    with open(os.path.join(OUTPUT_DIR, \"final\", result_filename), \"rb\") as f:\n",
    "        result_dict = pkl.load(f)\n",
    "    \n",
    "    result['poly_n'].append(result_dict['poly_n'])\n",
    "    result[\"n_memories\"].append(result_dict['n_memories'])\n",
    "    \n",
    "result = { key: np.array(val) for key, val in result.items() }\n",
    "    \n",
    "means = {\n",
    "    \"poly_n\": [],\n",
    "    \"n_memories\": []\n",
    "}\n",
    "\n",
    "# print()\n",
    "\n",
    "data_to_violinplot = []\n",
    "\n",
    "for poly_n in np.sort(np.unique(result[\"poly_n\"])):\n",
    "    for seeds in np.sort(np.unique(result[\"seeds\"])):\n",
    "        means[\"poly_n\"].append(poly_n)\n",
    "        data_to_violinplot.append(result[\"n_memories\"][(result[\"poly_n\"] == poly_n) * (result[\"n_memories\"] > 2)])\n",
    "        means[\"n_memories\"].append(np.mean(result[\"n_memories\"][result[\"poly_n\"] == poly_n]))\n",
    "\n",
    "plt.plot(means[\"poly_n\"], means[\"n_memories\"])\n",
    "plt.scatter(result[\"poly_n\"], result['n_memories'])\n",
    "plt.show()\n",
    "\n",
    "# Create a figure instance\n",
    "fig = plt.figure()\n",
    "\n",
    "# Create an axes instance\n",
    "ax = fig.add_axes([0,0,1,1])\n",
    "\n",
    "# Create the boxplot\n",
    "bp = ax.violinplot(data_to_violinplot)\n",
    "plt.show()"
   ]
  },
  {
   "cell_type": "code",
   "execution_count": 22,
   "id": "864480fe",
   "metadata": {
    "collapsed": false,
    "jupyter": {
     "outputs_hidden": false
    }
   },
   "outputs": [
    {
     "data": {
      "text/plain": [
       "array([ 1,  2,  3,  4,  5,  6,  7,  8,  9, 10, 11, 12, 13, 14, 15])"
      ]
     },
     "execution_count": 22,
     "metadata": {},
     "output_type": "execute_result"
    }
   ],
   "source": [
    "np.unique(result_filtered[\"poly_n\"])"
   ]
  },
  {
   "cell_type": "code",
   "execution_count": 23,
   "id": "25b4f897",
   "metadata": {
    "collapsed": false,
    "jupyter": {
     "outputs_hidden": false
    }
   },
   "outputs": [
    {
     "data": {
      "text/plain": [
       "'/media/arjun/Shared/cluster/output/aetpolynomial_v2'"
      ]
     },
     "execution_count": 23,
     "metadata": {},
     "output_type": "execute_result"
    }
   ],
   "source": [
    "OUTPUT_DIR"
   ]
  },
  {
   "cell_type": "code",
   "execution_count": 9,
   "id": "c190a5e5-afb9-4c2d-895a-eb96426a5235",
   "metadata": {},
   "outputs": [
    {
     "ename": "NameError",
     "evalue": "name 'maximum_memories' is not defined",
     "output_type": "error",
     "traceback": [
      "\u001b[0;31m---------------------------------------------------------------------------\u001b[0m",
      "\u001b[0;31mNameError\u001b[0m                                 Traceback (most recent call last)",
      "Cell \u001b[0;32mIn [9], line 14\u001b[0m\n\u001b[1;32m      1\u001b[0m result \u001b[38;5;241m=\u001b[39m {\n\u001b[1;32m      2\u001b[0m     \u001b[38;5;124m\"\u001b[39m\u001b[38;5;124mseeds\u001b[39m\u001b[38;5;124m\"\u001b[39m: [],\n\u001b[1;32m      3\u001b[0m     \u001b[38;5;124m\"\u001b[39m\u001b[38;5;124malpha_c\u001b[39m\u001b[38;5;124m\"\u001b[39m: [],\n\u001b[0;32m   (...)\u001b[0m\n\u001b[1;32m      7\u001b[0m     \u001b[38;5;124m\"\u001b[39m\u001b[38;5;124mno_cycle\u001b[39m\u001b[38;5;124m\"\u001b[39m: []\n\u001b[1;32m      8\u001b[0m }\n\u001b[1;32m     10\u001b[0m result \u001b[38;5;241m=\u001b[39m {\n\u001b[1;32m     11\u001b[0m         \u001b[38;5;124m\"\u001b[39m\u001b[38;5;124mseed\u001b[39m\u001b[38;5;124m\"\u001b[39m: SEED,\n\u001b[1;32m     12\u001b[0m         \u001b[38;5;124m\"\u001b[39m\u001b[38;5;124mpoly_n\u001b[39m\u001b[38;5;124m\"\u001b[39m: POLY_N,\n\u001b[1;32m     13\u001b[0m         \u001b[38;5;124m\"\u001b[39m\u001b[38;5;124malpha_c\u001b[39m\u001b[38;5;124m\"\u001b[39m: ALPHA,\n\u001b[0;32m---> 14\u001b[0m         \u001b[38;5;124m\"\u001b[39m\u001b[38;5;124mn_memories\u001b[39m\u001b[38;5;124m\"\u001b[39m: \u001b[43mmaximum_memories\u001b[49m,\n\u001b[1;32m     15\u001b[0m         \u001b[38;5;124m\"\u001b[39m\u001b[38;5;124mnum_episodes\u001b[39m\u001b[38;5;124m\"\u001b[39m: args\u001b[38;5;241m.\u001b[39mnum_episodes,\n\u001b[1;32m     16\u001b[0m         \u001b[38;5;124m\"\u001b[39m\u001b[38;5;124mno_cycle\u001b[39m\u001b[38;5;124m\"\u001b[39m: args\u001b[38;5;241m.\u001b[39mno_cycle,\n\u001b[1;32m     17\u001b[0m         \u001b[38;5;124m\"\u001b[39m\u001b[38;5;124mnum_neurons\u001b[39m\u001b[38;5;124m\"\u001b[39m: N\n\u001b[1;32m     18\u001b[0m     }\n\u001b[1;32m     20\u001b[0m \u001b[38;5;28;01mfor\u001b[39;00m result_filename \u001b[38;5;129;01min\u001b[39;00m os\u001b[38;5;241m.\u001b[39mlistdir(os\u001b[38;5;241m.\u001b[39mpath\u001b[38;5;241m.\u001b[39mjoin(OUTPUT_DIR, \u001b[38;5;124m\"\u001b[39m\u001b[38;5;124mfinal\u001b[39m\u001b[38;5;124m\"\u001b[39m)):\n\u001b[1;32m     21\u001b[0m     \u001b[38;5;66;03m# print(result_filename)\u001b[39;00m\n\u001b[1;32m     23\u001b[0m     \u001b[38;5;28;01mwith\u001b[39;00m \u001b[38;5;28mopen\u001b[39m(os\u001b[38;5;241m.\u001b[39mpath\u001b[38;5;241m.\u001b[39mjoin(OUTPUT_DIR, \u001b[38;5;124m\"\u001b[39m\u001b[38;5;124mfinal\u001b[39m\u001b[38;5;124m\"\u001b[39m, result_filename), \u001b[38;5;124m\"\u001b[39m\u001b[38;5;124mrb\u001b[39m\u001b[38;5;124m\"\u001b[39m) \u001b[38;5;28;01mas\u001b[39;00m f:\n",
      "\u001b[0;31mNameError\u001b[0m: name 'maximum_memories' is not defined"
     ]
    }
   ],
   "source": [
    "result = {\n",
    "    \"seeds\": [],\n",
    "    \"alpha_c\": [],\n",
    "    \"poly_n\": [],\n",
    "    \"n_memories\": [],\n",
    "    \"num_episodes\": [],\n",
    "    \"no_cycle\": []\n",
    "}\n",
    "\n",
    "result = {\n",
    "        \"seed\": SEED,\n",
    "        \"poly_n\": POLY_N,\n",
    "        \"alpha_c\": ALPHA,\n",
    "        \"n_memories\": maximum_memories,\n",
    "        \"num_episodes\": args.num_episodes,\n",
    "        \"no_cycle\": args.no_cycle,\n",
    "        \"num_neurons\": N\n",
    "    }\n",
    "\n",
    "for result_filename in os.listdir(os.path.join(OUTPUT_DIR, \"final\")):\n",
    "    # print(result_filename)\n",
    "\n",
    "    with open(os.path.join(OUTPUT_DIR, \"final\", result_filename), \"rb\") as f:\n",
    "        result_dict = pkl.load(f)\n",
    "\n",
    "    print(result_filename, result_dict[\"poly_n\"])\n",
    "\n",
    "    result[\"seeds\"].append(result_dict['seed'])\n",
    "    result['poly_n'].append(result_dict['poly_n'])\n",
    "    result['alpha_c'].append(result_dict['alpha_c'])\n",
    "    result[\"n_memories\"].append(result_dict['n_memories'])\n",
    "\n",
    "result = { key: np.array(val) for key, val in result.items() }\n",
    "    \n",
    "result_filtered = {\n",
    "    \"seeds\": [],\n",
    "    \"poly_n\": [],\n",
    "    \"n_memories\": []\n",
    "}\n",
    "\n",
    "# print(result[\"seeds\"][result[\"poly_n\"] == poly_n])\n",
    "\n",
    "# filter with seed    \n",
    "for poly_n in np.sort(np.unique(result[\"poly_n\"])):\n",
    "    for seed in np.sort(np.unique(result[\"seeds\"][result[\"poly_n\"] == poly_n])):\n",
    "        result_filtered[\"poly_n\"].append(poly_n)\n",
    "        result_filtered[\"seeds\"].append(seed)\n",
    "        # print(poly_n, seed, result[\"alpha_c\"][(result[\"poly_n\"] == poly_n)*(result[\"seeds\"] == seed)])\n",
    "        result_filtered[\"n_memories\"].append(np.max(result[\"n_memories\"][(result[\"poly_n\"] == poly_n)*(result[\"seeds\"] == seed)]))\n",
    "\n",
    "# plt.plot(means[\"poly_n\"], means[\"n_memories\"])\n",
    "# plt.scatter(result_filtered[\"poly_n\"], result_filtered['n_memories'])\n",
    "# plt.show()\n",
    "\n",
    "########### violinplot\n",
    "result_filtered = { key: np.array(val) for key, val in result_filtered.items() }\n",
    "\n",
    "means = {\n",
    "    \"poly_n\": [],\n",
    "    \"n_memories\": []\n",
    "}\n",
    "\n",
    "# violinplot_dict = {\n",
    "#     \"poly_n\": [],\n",
    "#     \"n_memories\": []\n",
    "# }\n",
    "data_to_violinplot = []\n",
    "\n",
    "print((result_filtered[\"poly_n\"] == poly_n)*(result_filtered[\"poly_n\"] > 2))\n",
    "\n",
    "for poly_n in np.sort(np.unique(result_filtered[\"poly_n\"])):\n",
    "    # for seeds in np.sort(np.unique(result_filtered[\"seeds\"])):\n",
    "    means[\"poly_n\"].append(poly_n)\n",
    "    data_to_violinplot.append(result_filtered[\"n_memories\"][(result_filtered[\"poly_n\"] == poly_n)])\n",
    "    means[\"n_memories\"].append(np.mean(result_filtered[\"n_memories\"][result_filtered[\"poly_n\"] == poly_n]))\n",
    "    \n",
    "# print(len(data_to_violinplot))\n",
    "        \n",
    "# Create a figure instance\n",
    "fig = plt.figure()\n",
    "\n",
    "# Create an axes instance\n",
    "ax = fig.add_axes([0,0,1,1])\n",
    "\n",
    "# Create the boxplot\n",
    "ax.plot(means[\"poly_n\"], means[\"n_memories\"])\n",
    "bp = ax.violinplot(data_to_violinplot)\n",
    "\n",
    "plt.xlabel(\"polynomial degree\", fontsize=18)\n",
    "plt.ylabel(\"memory sequence lengths\", fontsize=18)\n",
    "\n",
    "ax.tick_params(axis='both', labelsize=15)\n",
    "\n",
    "plt.axhline(y=12, color='k')\n",
    "\n",
    "plt.title(\"Sequence Memory Capacity for Dense GSEMM\", fontsize=20)\n",
    "plt.savefig(\"capacity.pdf\", format=\"pdf\", bbox_inches=\"tight\")\n",
    "# plt.tight_layout()\n",
    "plt.show()\n",
    "\n",
    "# sns.violinplot(x=result_filtered[\"poly_n\"], y=result_filtered[\"n_memories\"], gridsize=100, width=0.5)\n",
    "# plt.show()"
   ]
  },
  {
   "cell_type": "code",
   "execution_count": null,
   "id": "29ccc593",
   "metadata": {
    "collapsed": false,
    "jupyter": {
     "outputs_hidden": false
    }
   },
   "outputs": [],
   "source": []
  }
 ],
 "metadata": {
  "kernelspec": {
   "display_name": "Python 3 (ipykernel)",
   "language": "python",
   "name": "python3"
  },
  "language_info": {
   "codemirror_mode": {
    "name": "ipython",
    "version": 3
   },
   "file_extension": ".py",
   "mimetype": "text/x-python",
   "name": "python",
   "nbconvert_exporter": "python",
   "pygments_lexer": "ipython3",
   "version": "3.10.9"
  }
 },
 "nbformat": 4,
 "nbformat_minor": 5
}
